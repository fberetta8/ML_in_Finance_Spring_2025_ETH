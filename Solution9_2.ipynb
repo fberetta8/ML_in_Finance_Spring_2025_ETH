{
  "nbformat": 4,
  "nbformat_minor": 0,
  "metadata": {
    "colab": {
      "provenance": [],
      "authorship_tag": "ABX9TyP0i89mJav2bub8z9kr+Oab",
      "include_colab_link": true
    },
    "kernelspec": {
      "name": "python3",
      "display_name": "Python 3"
    },
    "language_info": {
      "name": "python"
    }
  },
  "cells": [
    {
      "cell_type": "markdown",
      "metadata": {
        "id": "view-in-github",
        "colab_type": "text"
      },
      "source": [
        "<a href=\"https://colab.research.google.com/github/fberetta8/ML_in_Finance_Spring_2025_ETH/blob/main/Solution9_2.ipynb\" target=\"_parent\"><img src=\"https://colab.research.google.com/assets/colab-badge.svg\" alt=\"Open In Colab\"/></a>"
      ]
    },
    {
      "cell_type": "markdown",
      "source": [
        "# Indifference pricing in Heston model"
      ],
      "metadata": {
        "id": "zKABlVA8YXY8"
      }
    },
    {
      "cell_type": "code",
      "source": [
        "# Need a certain version of numpy\n",
        "\n",
        "!pip uninstall numpy -y\n",
        "!pip cache purge\n",
        "!pip install numpy==1.26.0 --no-cache-dir"
      ],
      "metadata": {
        "collapsed": true,
        "id": "Yvl12XmyU_R1"
      },
      "execution_count": null,
      "outputs": []
    },
    {
      "cell_type": "code",
      "source": [
        "import matplotlib.pyplot as plt\n",
        "import numpy as np\n",
        "print(np.__version__)\n",
        "import torch\n",
        "\n",
        "torch.manual_seed(42)\n",
        "DEVICE = torch.device(\"cuda:0\" if torch.cuda.is_available() else \"cpu\")\n",
        "print(\"Default device:\", DEVICE)"
      ],
      "metadata": {
        "id": "jPMwRJ_PVBh5",
        "collapsed": true
      },
      "execution_count": null,
      "outputs": []
    },
    {
      "cell_type": "code",
      "source": [
        "# In each epoch, N_PATHS brownian motion time-series are generated.\n",
        "N_PATHS = 50000\n",
        "# How many times a model is updated in the experiment.\n",
        "N_EPOCHS = 100"
      ],
      "metadata": {
        "id": "rNEH1WIxVFLp"
      },
      "execution_count": null,
      "outputs": []
    },
    {
      "cell_type": "code",
      "source": [
        "!pip install pfhedge"
      ],
      "metadata": {
        "collapsed": true,
        "id": "Mm7exuwqVFqx"
      },
      "execution_count": null,
      "outputs": []
    },
    {
      "cell_type": "code",
      "execution_count": null,
      "metadata": {
        "id": "wqvSye_75ePa",
        "collapsed": true
      },
      "outputs": [],
      "source": [
        "from pfhedge.instruments import EuropeanOption, HestonStock, BrownianStock\n",
        "from pfhedge.nn import Hedger, MultiLayerPerceptron"
      ]
    },
    {
      "cell_type": "code",
      "source": [
        "heston = HestonStock(\n",
        "    cost=0.0,           # No transaction cost\n",
        "    dt=1/252,           # Daily time steps\n",
        "    kappa=1.0,\n",
        "    theta=0.04,         # Long-term volatility\n",
        "    sigma=0.2,          # Vol of vol\n",
        "    rho=-0.7,           # Correlation between price and vol\n",
        ")\n",
        "\n",
        "heston.simulate(n_paths=N_PATHS, time_horizon=30/252)"
      ],
      "metadata": {
        "id": "C4_mnn8K7agQ"
      },
      "execution_count": null,
      "outputs": []
    },
    {
      "cell_type": "code",
      "source": [
        "# Prepare a derivative to hedge\n",
        "derivative = EuropeanOption(heston, strike=1.0, maturity=30/252, call=True)\n",
        "\n",
        "# Create your hedger\n",
        "model = MultiLayerPerceptron()\n",
        "hedger = Hedger(\n",
        "    model, inputs=[\"log_moneyness\", \"expiry_time\", \"volatility\", \"prev_hedge\"]\n",
        ")\n",
        "\n",
        "# Fit and price\n",
        "hedger.fit(derivative, n_epochs=N_EPOCHS, n_paths=N_PATHS)\n",
        "indifference_price = hedger.price(derivative)\n"
      ],
      "metadata": {
        "colab": {
          "base_uri": "https://localhost:8080/"
        },
        "id": "G2GZVUuOUhT6",
        "outputId": "9b009ad3-8f7b-4bd7-f375-51cf55ae5eb6"
      },
      "execution_count": null,
      "outputs": [
        {
          "output_type": "stream",
          "name": "stderr",
          "text": [
            "Loss=0.0276: 100%|██████████| 100/100 [04:55<00:00,  2.96s/it]"
          ]
        },
        {
          "output_type": "stream",
          "name": "stdout",
          "text": [
            "Indifference Price: 0.0271\n"
          ]
        },
        {
          "output_type": "stream",
          "name": "stderr",
          "text": [
            "\n"
          ]
        }
      ]
    },
    {
      "cell_type": "code",
      "source": [
        "# Price by deep hedging\n",
        "print(f\"Indifference Price: {indifference_price:.4f}\")"
      ],
      "metadata": {
        "colab": {
          "base_uri": "https://localhost:8080/"
        },
        "id": "EQiPWTs8YBMx",
        "outputId": "1a41f59b-f384-414c-ecb3-b6e155db9fd7"
      },
      "execution_count": null,
      "outputs": [
        {
          "output_type": "stream",
          "name": "stdout",
          "text": [
            "Indifference Price: 0.0271\n"
          ]
        }
      ]
    },
    {
      "cell_type": "code",
      "source": [
        "# Simple montecarlo runs\n",
        "mc_price = torch.mean(derivative.payoff()).item()\n",
        "print(f\"Monte Carlo Indifference price: {mc_price:.4f}\")"
      ],
      "metadata": {
        "colab": {
          "base_uri": "https://localhost:8080/"
        },
        "id": "UUFXQb6nW1bp",
        "outputId": "d1e88e97-84b7-4f56-e878-6d51bb1afa40"
      },
      "execution_count": null,
      "outputs": [
        {
          "output_type": "stream",
          "name": "stdout",
          "text": [
            "Monte Carlo Expected Payoff: 0.0258\n"
          ]
        }
      ]
    }
  ]
}