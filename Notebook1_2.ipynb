{
  "cells": [
    {
      "cell_type": "markdown",
      "metadata": {
        "id": "view-in-github",
        "colab_type": "text"
      },
      "source": [
        "<a href=\"https://colab.research.google.com/github/fberetta8/ML_in_Finance_Spring_2025_ETH/blob/main/Notebook1_2.ipynb\" target=\"_parent\"><img src=\"https://colab.research.google.com/assets/colab-badge.svg\" alt=\"Open In Colab\"/></a>"
      ]
    },
    {
      "cell_type": "markdown",
      "metadata": {
        "id": "8KBuJrh3V0iN"
      },
      "source": [
        "# The role of volatility in BS formula\n",
        "This exercise should serve as a gentle introduction to the Black-Scholes formula, which plays a major role in quantitative finance. In this exercise we aim to write a NN which approximates the dependence of the price of an European call option on the volatility of the model."
      ]
    },
    {
      "cell_type": "code",
      "execution_count": null,
      "metadata": {
        "id": "AxK_i4WeWsSj",
        "collapsed": true
      },
      "outputs": [],
      "source": [
        "# Libraries\n",
        "import torch\n",
        "import torch.nn as nn\n",
        "import torch.optim as optim\n",
        "import numpy as np\n",
        "import scipy.stats as si\n",
        "import matplotlib.pyplot as plt"
      ]
    },
    {
      "cell_type": "markdown",
      "source": [
        "## Black-Scholes Formula\n",
        "\n",
        "We consider the Black-Scholes formula for the price of a European call option:\n",
        "\n",
        "$$\n",
        "\\begin{aligned}             \n",
        "C(X,r,\\sigma,T,K) &= X \\Phi(d_1) - K e^{-rT} \\Phi(d_2), \\text{ where }\\\\\n",
        "d_1 &=\\frac{\\ln(X/K) + (r + \\frac{1}{2} \\sigma^2)T}{\\sigma \\sqrt{T}}\\\\\n",
        "d_2 &= d_1 - \\sigma \\sqrt{T}.\n",
        "\\end{aligned}\n",
        "$$\n",
        "\n",
        "In the above:\n",
        "- $X$ is the price of the underlying asset,\n",
        "- $r$ is the risk-free interest rate,\n",
        "- $\\sigma$ is the volatility of the market,\n",
        "- $T$ is the time to maturity,\n",
        "- $K$ is the strike price,\n",
        "- $\\Phi$ is the cumulative distribution function (CDF) of the standard normal distribution.\n",
        "\n",
        "We shall discuss this model in detail in another lecture. For now, we fix the values:\n",
        "\n",
        "$$\n",
        "X=2, \\quad r=0, \\quad T=1, \\quad K=1 \\quad \\sigma \\in [0.01,1].\n",
        "$$\n",
        "\n",
        "Substituting these into the formula:\n",
        "\n",
        "$$\n",
        "\\begin{aligned}             \n",
        "C(\\sigma) &= 2\\Phi(d_1) - \\Phi(d_2),\\\\\n",
        "d_1 &= \\frac{\\ln(2) + \\frac{1}{2} \\sigma^2}{\\sigma}\\\\\n",
        "d_2 &= \\frac{\\ln(2) - \\frac{1}{2} \\sigma^2}{\\sigma}.\n",
        "\\end{aligned}\n",
        "$$\n"
      ],
      "metadata": {
        "id": "rpwy7eXUv6Jg"
      }
    },
    {
      "cell_type": "code",
      "execution_count": null,
      "metadata": {
        "id": "5m7GDQ_YX5yK"
      },
      "outputs": [],
      "source": [
        "# Black-Scholes formula\n",
        "def black_scholes_formula(sigma, X=0.5, K=1, T=1, r=0):\n",
        "\n",
        "    # TODO: Implement the BS formula described above."
      ]
    },
    {
      "cell_type": "code",
      "source": [
        "# Generate Training Data\n",
        "def generate_data(num_samples):\n",
        "\n",
        "    # TODO: Sample `sigma` values from a uniform distribution (0.01 to 1)\n",
        "\n",
        "    # TODO: Compute option prices using `black_scholes_formula`\n",
        "\n",
        "    # TODO: Convert to PyTorch tensors\n",
        "\n",
        "    return X_train, y_train"
      ],
      "metadata": {
        "id": "ZsnkUTPxgMis"
      },
      "execution_count": null,
      "outputs": []
    },
    {
      "cell_type": "code",
      "source": [
        "# Test your function\n",
        "X_train, y_train = generate_data(10)\n",
        "print(\"Sample Data:\", X_train[:5], y_train[:5])"
      ],
      "metadata": {
        "id": "fBRunM5z2DTR"
      },
      "execution_count": null,
      "outputs": []
    },
    {
      "cell_type": "code",
      "source": [
        "# Define Neural Network Model\n",
        "class BlackScholesNN(nn.Module):\n",
        "    def __init__(self, hidden_size=32, num_layers=3):\n",
        "        super(BlackScholesNN, self).__init__()\n",
        "\n",
        "        # TODO: Implement a feedforward NN with `num_layers` hidden layers\n",
        "\n",
        "    def forward(self, x):\n",
        "        return self.model(x)"
      ],
      "metadata": {
        "id": "8MGac4Zhx26V"
      },
      "execution_count": null,
      "outputs": []
    },
    {
      "cell_type": "code",
      "source": [
        "# Test your Model\n",
        "model = BlackScholesNN(hidden_size=32, num_layers=3)\n",
        "print(model)"
      ],
      "metadata": {
        "id": "HdFhmFMu2WMu"
      },
      "execution_count": null,
      "outputs": []
    },
    {
      "cell_type": "code",
      "source": [
        "# Train the model\n",
        "def train_model(num_samples, num_layers=3, epochs=500, learning_rate=0.01):\n",
        "    X_train, y_train = generate_data(num_samples)\n",
        "\n",
        "    model = BlackScholesNN(num_layers=num_layers)\n",
        "    criterion = nn.MSELoss()\n",
        "    optimizer = optim.Adam(model.parameters(), lr=learning_rate)\n",
        "\n",
        "    for epoch in range(epochs):\n",
        "        optimizer.zero_grad()\n",
        "        predictions = model(X_train)\n",
        "        loss = criterion(predictions, y_train)\n",
        "        loss.backward()\n",
        "        optimizer.step()\n",
        "\n",
        "        if epoch % 50 == 0:\n",
        "            print(f\"Epoch {epoch}: Loss = {loss.item():.6f}\")\n",
        "\n",
        "    return model, X_train, y_train"
      ],
      "metadata": {
        "id": "rPqPCuo32bvS"
      },
      "execution_count": null,
      "outputs": []
    },
    {
      "cell_type": "markdown",
      "source": [
        "**Test 1**: Fix the network structure and vary the **number of training samples**.\n",
        "\n"
      ],
      "metadata": {
        "id": "czB3cFuR3ETZ"
      }
    },
    {
      "cell_type": "code",
      "source": [
        "model_5, X_train_5, y_train_5 = train_model(num_samples=5)\n",
        "model_10, X_train_10, y_train_10 = train_model(num_samples=10)\n",
        "model_100, X_train_100, y_train_100 = train_model(num_samples=100)\n",
        "\n",
        "# Generate Test Data\n",
        "sigma_test = np.linspace(0.01, 1, 100).reshape(-1, 1)\n",
        "sigma_test_tensor = torch.tensor(sigma_test, dtype=torch.float32)\n",
        "true_prices = black_scholes_formula(sigma_test)\n",
        "\n",
        "# Predict Prices Using Trained Models\n",
        "with torch.no_grad():\n",
        "    pred_5 = model_5(sigma_test_tensor).numpy()\n",
        "    pred_10 = model_10(sigma_test_tensor).numpy()\n",
        "    pred_100 = model_100(sigma_test_tensor).numpy()\n",
        "\n",
        "# Plot Results\n",
        "plt.figure(figsize=(10, 6))\n",
        "plt.plot(sigma_test, true_prices, label=\"True Black-Scholes\", linewidth=3, color=\"black\")\n",
        "plt.plot(sigma_test, pred_5, label=\"Train Size = 5\", linestyle=\"dashed\", color=\"red\")\n",
        "plt.plot(sigma_test, pred_10, label=\"Train Size = 10\", linestyle=\"dashed\", color=\"blue\")\n",
        "plt.plot(sigma_test, pred_100, label=\"Train Size = 100\", linestyle=\"dashed\", color=\"green\")\n",
        "\n",
        "plt.xlabel(\"Volatility (σ)\")\n",
        "plt.ylabel(\"Option Price\")\n",
        "plt.title(\"Black-Scholes Approximation with Different Training Set Sizes\")\n",
        "plt.legend()\n",
        "plt.show()"
      ],
      "metadata": {
        "id": "qBwrQklE2tqF"
      },
      "execution_count": null,
      "outputs": []
    },
    {
      "cell_type": "markdown",
      "source": [
        "**Test 2**: Fix the train set and vary the **number of hidden layers**.\n"
      ],
      "metadata": {
        "id": "yPWIYT5K3wFY"
      }
    },
    {
      "cell_type": "code",
      "source": [
        "model_1, _, _ = train_model(num_samples=100, num_layers=1)\n",
        "model_3, _, _ = train_model(num_samples=100, num_layers=3)\n",
        "model_5, _, _ = train_model(num_samples=100, num_layers=5)\n",
        "\n",
        "# Generate Test Data\n",
        "sigma_test = np.linspace(0.01, 1, 100).reshape(-1, 1)\n",
        "sigma_test_tensor = torch.tensor(sigma_test, dtype=torch.float32)\n",
        "true_prices = black_scholes_formula(sigma_test)\n",
        "\n",
        "# Predict Prices Using Trained Models\n",
        "with torch.no_grad():\n",
        "    pred_1 = model_1(sigma_test_tensor).numpy()\n",
        "    pred_3 = model_3(sigma_test_tensor).numpy()\n",
        "    pred_5 = model_5(sigma_test_tensor).numpy()\n",
        "\n",
        "# Plot Results\n",
        "plt.figure(figsize=(10, 6))\n",
        "plt.plot(sigma_test, true_prices, label=\"True Black-Scholes\", linewidth=3, color=\"black\")\n",
        "plt.plot(sigma_test, pred_1, label=\"1 Hidden Layer\", linestyle=\"dashed\", color=\"red\")\n",
        "plt.plot(sigma_test, pred_3, label=\"3 Hidden Layers\", linestyle=\"dashed\", color=\"blue\")\n",
        "plt.plot(sigma_test, pred_5, label=\"5 Hidden Layers\", linestyle=\"dashed\", color=\"green\")\n",
        "\n",
        "plt.xlabel(\"Volatility (σ)\")\n",
        "plt.ylabel(\"Option Price\")\n",
        "plt.title(\"Black-Scholes Approximation with Different Network Architectures\")\n",
        "plt.legend()\n",
        "plt.show()"
      ],
      "metadata": {
        "id": "4IJK12TH3wtk"
      },
      "execution_count": null,
      "outputs": []
    }
  ],
  "metadata": {
    "colab": {
      "provenance": [],
      "authorship_tag": "ABX9TyM9Iwxn+NbaVXnfMC3fs0lV",
      "include_colab_link": true
    },
    "kernelspec": {
      "display_name": "Python 3",
      "name": "python3"
    },
    "language_info": {
      "name": "python"
    }
  },
  "nbformat": 4,
  "nbformat_minor": 0
}