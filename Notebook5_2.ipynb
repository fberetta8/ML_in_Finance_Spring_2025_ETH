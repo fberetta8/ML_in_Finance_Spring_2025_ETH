{
  "cells": [
    {
      "cell_type": "markdown",
      "metadata": {
        "id": "view-in-github",
        "colab_type": "text"
      },
      "source": [
        "<a href=\"https://colab.research.google.com/github/fberetta8/ML_in_Finance_Spring_2025_ETH/blob/main/Notebook5_2.ipynb\" target=\"_parent\"><img src=\"https://colab.research.google.com/assets/colab-badge.svg\" alt=\"Open In Colab\"/></a>"
      ]
    },
    {
      "cell_type": "markdown",
      "metadata": {
        "id": "8KBuJrh3V0iN"
      },
      "source": [
        "# Path Dependency in Hedging\n",
        "In financial markets, some derivatives (such as Asian options) depend on the entire path of an underlying asset's price, not just its final value. We will explore path dependency using a simple Monte Carlo simulations of an Asian option. This will be studied in a BS model, already written under the pricing measure."
      ]
    },
    {
      "cell_type": "markdown",
      "source": [
        "# Parameters\n",
        "- Initial stock price $S_0$ = 100\n",
        "- Risk-free rate r = 5% (0.05)\n",
        "- Volatility $\\sigma$ = 20% (0.2)\n",
        "- Strike price K = 100\n",
        "- Time to maturity T = 1 (year)\n",
        "- Number of time steps = 252 (daily simulation)\n",
        "- Number of Monte Carlo simulations = 10,000"
      ],
      "metadata": {
        "id": "JdRB9WS4inpp"
      }
    },
    {
      "cell_type": "code",
      "execution_count": null,
      "metadata": {
        "id": "AxK_i4WeWsSj",
        "collapsed": true
      },
      "outputs": [],
      "source": [
        "# Libraries\n",
        "import numpy as np\n",
        "import matplotlib.pyplot as plt"
      ]
    },
    {
      "cell_type": "code",
      "execution_count": null,
      "metadata": {
        "id": "5m7GDQ_YX5yK"
      },
      "outputs": [],
      "source": [
        " # Define the BS model\n",
        "def geometric_brownian_motion(S0, r, sigma, T, steps, n_simulations):\n",
        "    dt = T / steps\n",
        "    W = np.random.randn(n_simulations, steps) * np.sqrt(dt)\n",
        "    W = np.hstack((np.zeros((n_simulations, 1)), W))  # Insert initial value\n",
        "    return S0 * np.exp(np.cumsum((r - 0.5 * sigma**2) * dt + sigma * W, axis=1))"
      ]
    },
    {
      "cell_type": "code",
      "source": [
        "# Define payoffs\n",
        "def asian_call_payoff(paths, K):\n",
        "\n",
        "    # TODO: Express the payoff of an Asian call option, for a given path\n",
        "\n",
        "def european_call_payoff(paths, K):\n",
        "\n",
        "    # TODO: Express the payoff of an Asian call option, for a given path"
      ],
      "metadata": {
        "id": "ZsnkUTPxgMis"
      },
      "execution_count": null,
      "outputs": []
    },
    {
      "cell_type": "code",
      "source": [
        "# Set parameters and simulate\n",
        "S0 = 100\n",
        "r = 0.05\n",
        "sigma = 0.2\n",
        "K = 100\n",
        "T = 1\n",
        "steps = 252\n",
        "n_simulations = 10000\n",
        "\n",
        "paths = geometric_brownian_motion(S0, r, sigma, T, steps, n_simulations)"
      ],
      "metadata": {
        "id": "fBRunM5z2DTR"
      },
      "execution_count": null,
      "outputs": []
    },
    {
      "cell_type": "code",
      "source": [
        "# Compute expected payoffs using MonteCarlo\n",
        "\n",
        "# TODO: Compute via Montecarlo the expected payoffs, both for an European and\n",
        "#       an Asian option."
      ],
      "metadata": {
        "id": "8MGac4Zhx26V"
      },
      "execution_count": null,
      "outputs": []
    },
    {
      "cell_type": "code",
      "source": [
        "print(f\"Asian Call Option Price (Monte Carlo Estimate): {asian_option_price}\")\n",
        "print(f\"European Call Option Price (Monte Carlo Estimate): {european_option_price}\")"
      ],
      "metadata": {
        "id": "HdFhmFMu2WMu",
        "colab": {
          "base_uri": "https://localhost:8080/"
        },
        "outputId": "ba7d62d0-ecf2-4e82-c3fe-9db91775cbf7"
      },
      "execution_count": null,
      "outputs": [
        {
          "output_type": "stream",
          "name": "stdout",
          "text": [
            "Asian Call Option Price (Monte Carlo Estimate): 5.818579535328223\n",
            "European Call Option Price (Monte Carlo Estimate): 10.425557871579237\n"
          ]
        }
      ]
    }
  ],
  "metadata": {
    "colab": {
      "provenance": [],
      "authorship_tag": "ABX9TyOQyUtr42mQjma/8SOSF5qJ",
      "include_colab_link": true
    },
    "kernelspec": {
      "display_name": "Python 3",
      "name": "python3"
    },
    "language_info": {
      "name": "python"
    }
  },
  "nbformat": 4,
  "nbformat_minor": 0
}