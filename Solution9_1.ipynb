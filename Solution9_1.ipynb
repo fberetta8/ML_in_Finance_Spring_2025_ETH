{
  "nbformat": 4,
  "nbformat_minor": 0,
  "metadata": {
    "colab": {
      "provenance": [],
      "authorship_tag": "ABX9TyO+GKftpobwIS865O9S5zEH",
      "include_colab_link": true
    },
    "kernelspec": {
      "name": "python3",
      "display_name": "Python 3"
    },
    "language_info": {
      "name": "python"
    }
  },
  "cells": [
    {
      "cell_type": "markdown",
      "metadata": {
        "id": "view-in-github",
        "colab_type": "text"
      },
      "source": [
        "<a href=\"https://colab.research.google.com/github/fberetta8/ML_in_Finance_Spring_2025_ETH/blob/main/Solution9_1.ipynb\" target=\"_parent\"><img src=\"https://colab.research.google.com/assets/colab-badge.svg\" alt=\"Open In Colab\"/></a>"
      ]
    },
    {
      "cell_type": "markdown",
      "source": [
        "# Pricing and Hedging in LSV models via Neural Networks\n",
        "This notebook demonstrates how to train a neural network to model local stochastic volatility and hedging strategies for options pricing.\n",
        "This notebook is heavily inspired by the work of Josef Teichmann and Florian Krach in [this lecture](https://gist.github.com/jteichma/1f1b56e7a48a4d966cf3eb2cce314857).\n"
      ],
      "metadata": {
        "id": "I6cv8_kaizEJ"
      }
    },
    {
      "cell_type": "code",
      "source": [
        "# Install TensorFlow version 2.12.0\n",
        "!pip install tensorflow==2.12.0"
      ],
      "metadata": {
        "collapsed": true,
        "id": "1rxunE_si-5s"
      },
      "execution_count": null,
      "outputs": []
    },
    {
      "cell_type": "code",
      "source": [
        "import numpy as np\n",
        "import tensorflow as tf\n",
        "import matplotlib.pyplot as plt\n",
        "\n",
        "from keras.models import Sequential\n",
        "from keras.layers import Input, Dense, Conv2D, Concatenate, Dropout, Subtract, \\\n",
        "                        Flatten, MaxPooling2D, Multiply, Lambda, Add, Dot\n",
        "from keras import optimizers\n",
        "\n",
        "from keras.models import Model\n",
        "from keras.layers import Input\n",
        "from keras import initializers\n",
        "from keras.constraints import max_norm\n",
        "import keras.backend as K"
      ],
      "metadata": {
        "id": "UTJU19A3jDcT"
      },
      "execution_count": null,
      "outputs": []
    },
    {
      "cell_type": "code",
      "source": [
        "import keras\n",
        "keras.utils.set_random_seed(345)"
      ],
      "metadata": {
        "id": "Hy3_X75RjEjA"
      },
      "execution_count": null,
      "outputs": []
    },
    {
      "cell_type": "code",
      "source": [
        "# Layer dimension and parameters\n",
        "\n",
        "m = 10  # layer dimension\n",
        "n = 2   # number of layers for local volatility\n",
        "N = 20  # time discretization (number of steps)\n",
        "maturities = [0.5, 1.]  # list of maturities\n",
        "T = 1.0  # total time"
      ],
      "metadata": {
        "id": "VUpTWKBCjKKH"
      },
      "execution_count": null,
      "outputs": []
    },
    {
      "cell_type": "code",
      "source": [
        "#  Define Local Volatility Layers\n",
        "\n",
        "layers = []\n",
        "for j in range(len(maturities)):\n",
        "    layersatT = []\n",
        "    for i in range(n):\n",
        "        if i < n-1:\n",
        "            nodes = m\n",
        "        else:\n",
        "            nodes = 1\n",
        "        layer = Dense(nodes, activation='relu', trainable=False,\n",
        "                      kernel_initializer=initializers.RandomNormal(0, 1),\n",
        "                      bias_initializer='random_normal')\n",
        "        layersatT = layersatT + [layer]\n",
        "    layers = layers + [layersatT]"
      ],
      "metadata": {
        "id": "hcfcH2-kjMMO"
      },
      "execution_count": null,
      "outputs": []
    },
    {
      "cell_type": "code",
      "source": [
        "# Define Hedging Layers\n",
        "\n",
        "P = {(0.9, 0.5): 0.20042534,\n",
        "    (0.9, 1.0): 0.23559685,\n",
        "    (1.0, 0.5): 0.16312157,\n",
        "    (1.0, 1.0): 0.20771958,\n",
        "    (1.1, 0.5): 0.13154241,\n",
        "    (1.1, 1.0): 0.18236567}\n",
        "\n",
        "hedges = {}\n",
        "for key in P.keys():\n",
        "    hedgeskey =[]\n",
        "    for j in range(N):\n",
        "        nodes = 1\n",
        "        hedge = Dense(nodes, activation='relu', trainable=True,\n",
        "                      kernel_initializer=initializers.RandomNormal(0, 0.1),\n",
        "                      bias_initializer='random_normal')\n",
        "        hedgeskey = hedgeskey + [hedge]\n",
        "    hedges[key] = hedgeskey"
      ],
      "metadata": {
        "id": "7vVu95LTj8Gn"
      },
      "execution_count": null,
      "outputs": []
    },
    {
      "cell_type": "code",
      "source": [
        "# Training the hedging strategy.\n",
        "\n",
        "keylist = list(P.keys())\n",
        "price = Input(shape=(1,))\n",
        "hedgepf = [Input(shape=(1,)) for l in range(len(P.keys()))]\n",
        "inputs = [price] + hedgepf\n",
        "inputshelper = []\n",
        "hedgeratio = {}\n",
        "hedge = {}\n",
        "pricekey = [0 for l in range(len(P.keys()))]\n",
        "\n",
        "normal = tf.compat.v1.distributions.Normal(loc=0., scale=1.)\n",
        "\n",
        "def BS(x):\n",
        "    \"\"\"\n",
        "    the Black Scholes Delta Hedge\n",
        "\n",
        "    key[0]: strike of option\n",
        "    key[1]: maturity of option\n",
        "    j: current time step\n",
        "    \"\"\"\n",
        "    price=x[0]\n",
        "    vola=x[1]\n",
        "    return normal.cdf((K.log(K.abs(price)/key[0])+0.5*(key[1]-j*T/N)*vola**2)/(0.00001+np.sqrt(key[1]-j*T/N)*vola))\n",
        "# increases computational time\n",
        "\n",
        "i = 0  # index of current maturity\n",
        "for j in range(0,N):  # loop over discrete time steps\n",
        "    #i=0\n",
        "    if maturities[i] < j*T/N:  # increase maturity index if time passed the current maturity\n",
        "        i+=1\n",
        "    helper0 = layers[i][0](price)  # use localvol NN for maturity i and aggregate all layers\n",
        "    for k in range(1,n):\n",
        "        helper0 = layers[i][k](helper0) # localvol applied to price at time j*T/N\n",
        "    BMincr = Input(shape=(1,)) # stand. normal sample, corresponds to scaled BM increment\n",
        "    stochvol = Input(shape=(1,)) # stochvol value (alpha)\n",
        "    helper1 = Multiply()([helper0,BMincr])  # NN_localvol * Normal\n",
        "    helper1 = Lambda(lambda x: x * np.sqrt(T/N))(helper1)  # NN_localvol * Delta W; (multiply by sqrt(Delta t) to get BM incr)\n",
        "    priceincr = Multiply()([helper1,stochvol]) # new price increment Delta S; NN_localvol * alpha * Delta W\n",
        "    for l in range(len(P.keys())):  # go through all options\n",
        "        key = keylist[l]\n",
        "        hedgeratio[key] = hedges[key][j](price)  # NN_hedge_strategy takes current price as input and uses the hedging NN specific for the option and the time step\n",
        "        BSstrategy = Lambda(BS)([price,Multiply()([helper0,stochvol])])  # BS delta hedge strategy applied for current price and vol\n",
        "        hedgeratio[key] = Add()([hedgeratio[key],BSstrategy])  # use as hedging strategy the BS_strategy + NN_hedge_strategy\n",
        "        hedge[key] = Multiply()([priceincr,hedgeratio[key]])  # increment of stochastic integral for hedge\n",
        "        hedgepf[l] = Add()([hedgepf[l],hedge[key]])  # current value of stoch integral for hedge\n",
        "        if key[1]==((j+1)*T/N): # the option expires\n",
        "            helper2 = Lambda(lambda x : 0.5*(abs(x-key[0])+x-key[0]))(Add()([price,priceincr]))  # lambda equals max(price - K, 0), use the price at j+1 as input (price+priceincr)\n",
        "            helper2 = Subtract()([helper2,hedgepf[l]]) # payoff minus hedge\n",
        "            pricekey[l] = helper2  # model output\n",
        "    price = Add()([price,priceincr]) # new price after one time step\n",
        "    inputshelper = inputshelper + [stochvol]\n",
        "    inputs = inputs + [BMincr]\n",
        "\n",
        "inputs = inputs + inputshelper  # help to sort the inputs (first all BMincr then all stochvol)\n",
        "pricekey = Concatenate()(pricekey)\n",
        "localvol_trainhedge = Model(inputs=inputs, outputs=pricekey)"
      ],
      "metadata": {
        "colab": {
          "base_uri": "https://localhost:8080/"
        },
        "id": "-QRGeNh0kCdt",
        "outputId": "f08e7a07-ab29-4034-c0ff-f8e54f3fe72e"
      },
      "execution_count": null,
      "outputs": [
        {
          "output_type": "stream",
          "name": "stderr",
          "text": [
            "<ipython-input-20-668f09db2eb7>:24: RuntimeWarning: invalid value encountered in sqrt\n",
            "  return normal.cdf((K.log(K.abs(price)/key[0])+0.5*(key[1]-j*T/N)*vola**2)/(0.00001+np.sqrt(key[1]-j*T/N)*vola))\n"
          ]
        }
      ]
    },
    {
      "cell_type": "code",
      "source": [
        "# Training the local volatility model\n",
        "\n",
        "layers = []\n",
        "\n",
        "for j in range(len(maturities)):\n",
        "    layersatT = []\n",
        "    for i in range(2):\n",
        "        if i < 1:\n",
        "            nodes = m\n",
        "        else:\n",
        "            nodes = 1\n",
        "        layer = Dense(nodes, activation='relu', trainable=True,  # localvol trainable\n",
        "                      kernel_initializer=initializers.RandomNormal(0, 1),#kernel_initializer='random_normal',\n",
        "                      bias_initializer='random_normal')\n",
        "        layersatT = layersatT + [layer]\n",
        "    layers = layers + [layersatT]\n",
        "\n",
        "\n",
        "hedges = {}\n",
        "for key in P.keys():\n",
        "    hedgeskey =[]\n",
        "    for j in range(N):\n",
        "        nodes = 1\n",
        "        hedge = Dense(nodes, activation='relu', trainable=False,  # hedges not trainable\n",
        "                      kernel_initializer=initializers.RandomNormal(0,0.1),#kernel_initializer='random_normal',\n",
        "                      bias_initializer='random_normal')\n",
        "        hedgeskey = hedgeskey + [hedge]\n",
        "    hedges[key] = hedgeskey\n",
        "start = 0\n",
        "\n",
        "keylist = list(P.keys())\n",
        "price = Input(shape=(1,))\n",
        "hedgepf = [Input(shape=(1,)) for l in range(len(P.keys()))]\n",
        "inputs = [price] + hedgepf\n",
        "inputshelper = []\n",
        "hedgeratio = {}\n",
        "hedge = {}\n",
        "pricekey = [0 for l in range(len(P.keys()))]\n",
        "\n",
        "i = 0  # index of current maturity\n",
        "for j in range(0,N):  # loop over discrete time steps\n",
        "    #i=0\n",
        "    if maturities[i] < j*T/N:  # increase maturity index if time passed the current maturity\n",
        "        i+=1\n",
        "    helper0 = layers[i][0](price)  # use localvol NN for maturity i and aggregate all layers\n",
        "    for k in range(1,n):\n",
        "        helper0 = layers[i][k](helper0) # localvol applied to price at time j*T/N\n",
        "    BMincr = Input(shape=(1,)) # stand. normal sample, corresponds to scaled BM increment\n",
        "    stochvol = Input(shape=(1,)) # stochvol value (alpha)\n",
        "    helper1 = Multiply()([helper0,BMincr])  # NN_localvol * Normal\n",
        "    helper1 = Lambda(lambda x: x * np.sqrt(T/N))(helper1)  # NN_localvol * Delta W; (multiply by sqrt(Delta t) to get BM incr)\n",
        "    priceincr = Multiply()([helper1,stochvol]) # new price increment Delta S; NN_localvol * alpha * Delta W\n",
        "    for l in range(len(P.keys())):  # go through all options\n",
        "        key = keylist[l]\n",
        "        hedgeratio[key] = hedges[key][j](price)  # NN_hedge_strategy takes current price as input and uses the hedging NN specific for the option and the time step\n",
        "        BSstrategy = Lambda(BS)([price,Multiply()([helper0,stochvol])])  # BS delta hedge strategy applied for current price and vol\n",
        "        hedgeratio[key] = Add()([hedgeratio[key],BSstrategy])  # use as hedging strategy the BS_strategy + NN_hedge_strategy\n",
        "        hedge[key] = Multiply()([priceincr,hedgeratio[key]])  # increment of stochastic integral for hedge\n",
        "        hedgepf[l] = Add()([hedgepf[l],hedge[key]])  # current value of stoch integral for hedge\n",
        "        if key[1]==((j+1)*T/N): # the option expires\n",
        "            helper2 = Lambda(lambda x : 0.5*(abs(x-key[0])+x-key[0]))(Add()([price,priceincr]))  # lambda equals max(price - K, 0), use the price at j+1 as input (price+priceincr)\n",
        "            helper2 = Subtract()([helper2,hedgepf[l]]) # payoff minus hedge\n",
        "            pricekey[l] = helper2  # model output\n",
        "    price = Add()([price,priceincr]) # new price after one time step\n",
        "    inputshelper = inputshelper + [stochvol]\n",
        "    inputs = inputs + [BMincr]\n",
        "\n",
        "inputs = inputs + inputshelper  # help to sort the inputs (first all BMincr then all stochvol)\n",
        "pricekey = Concatenate()(pricekey)\n",
        "localvol_trainlocvol = Model(inputs=inputs, outputs=pricekey)"
      ],
      "metadata": {
        "colab": {
          "base_uri": "https://localhost:8080/"
        },
        "id": "v--MW3Btmpej",
        "outputId": "fa385425-6858-449e-d64b-159a26e9efa5"
      },
      "execution_count": null,
      "outputs": [
        {
          "output_type": "stream",
          "name": "stderr",
          "text": [
            "<ipython-input-20-668f09db2eb7>:24: RuntimeWarning: invalid value encountered in sqrt\n",
            "  return normal.cdf((K.log(K.abs(price)/key[0])+0.5*(key[1]-j*T/N)*vola**2)/(0.00001+np.sqrt(key[1]-j*T/N)*vola))\n"
          ]
        }
      ]
    },
    {
      "cell_type": "code",
      "source": [
        "# Training Setup and Loss function\n",
        "\n",
        "# Number of training samples\n",
        "Ltrain = 5 * 10**3\n",
        "\n",
        "# Create training data: inputs and targets\n",
        "xtrain = ([np.ones(Ltrain)] + [np.zeros(Ltrain) for key in keylist] +\n",
        "          [np.random.normal(0, 1, Ltrain) for i in range(N)] +\n",
        "          [np.ones(Ltrain) for i in range(N)])\n",
        "\n",
        "ytrain = np.array(list(P.values())).reshape((1, -1)).repeat(Ltrain, axis=0)\n",
        "\n",
        "def localvol_loss_fn(y_true, y_pred):\n",
        "    return K.mean(K.square(K.mean(y_pred, axis=0) - K.mean(y_true, axis=0)))"
      ],
      "metadata": {
        "id": "6vO6OHvsm_jw"
      },
      "execution_count": null,
      "outputs": []
    },
    {
      "cell_type": "code",
      "source": [
        "# Compile the models\n",
        "\n",
        "localvol_trainhedge.compile(optimizer='adam', loss='mean_squared_error')\n",
        "localvol_trainlocvol.compile(optimizer='adam', loss=localvol_loss_fn)"
      ],
      "metadata": {
        "id": "EBALiQb2nKEO"
      },
      "execution_count": null,
      "outputs": []
    },
    {
      "cell_type": "code",
      "source": [
        "# Training loop\n",
        "\n",
        "for k in range(3):\n",
        "    # Fit the hedging model\n",
        "    localvol_trainhedge.fit(x=xtrain, y=ytrain, epochs=10, verbose=True)\n",
        "\n",
        "    # Transfer weights from hedge model to local volatility model\n",
        "    x = localvol_trainhedge.get_weights()\n",
        "    localvol_trainlocvol.set_weights(x)\n",
        "\n",
        "    # Fit the local volatility model\n",
        "    localvol_trainlocvol.fit(x=xtrain, y=ytrain, epochs=15, verbose=True, batch_size=Ltrain)\n",
        "\n",
        "    # Plot predictions\n",
        "    fig, axs = plt.subplots(1, 2, figsize=(12, 4))\n",
        "    predictions = localvol_trainlocvol.predict(xtrain)\n",
        "    axs[0].hist(predictions[:, 0])  # plot distribution of the first model option price\n",
        "    axs[1].hist(predictions[:, :])  # plot distribution of all model option prices\n",
        "    plt.show()\n",
        "\n",
        "    # Print model values and target values\n",
        "    print(\"Model values: \", list(np.mean(predictions, axis=0)))\n",
        "    print(\"Target values:\", list(P.values()))\n",
        "\n",
        "    # Transfer weights from the local volatility model to the hedge model\n",
        "    y = localvol_trainlocvol.get_weights()\n",
        "    localvol_trainhedge.set_weights(y)"
      ],
      "metadata": {
        "collapsed": true,
        "id": "8s06bzuqnXHG"
      },
      "execution_count": null,
      "outputs": []
    },
    {
      "cell_type": "code",
      "source": [
        "# Testing environment\n",
        "\n",
        "# Number of test samples\n",
        "Ltest = 10**6\n",
        "\n",
        "# Create test data: inputs and targets\n",
        "xtest = ([np.ones(Ltest)] + [np.zeros(Ltest) for key in keylist] +\n",
        "         [np.random.normal(0, 1, Ltest) for i in range(N)] +\n",
        "         [np.ones(Ltest) for i in range(N)])\n",
        "\n",
        "ytest = np.array(list(P.values())).reshape((1, -1)).repeat(Ltest, axis=0)\n",
        "\n",
        "# Generate predictions for test data\n",
        "predictions = localvol_trainlocvol.predict(xtest)\n",
        "\n",
        "# Plot test predictions\n",
        "plt.hist(predictions[:,:])\n",
        "plt.show()\n",
        "\n",
        "# Print calibrated values and ground truth\n",
        "print('Calibrated values:', list(np.mean(predictions, axis=0)))\n",
        "print('Ground truth:     ', list(P.values()))"
      ],
      "metadata": {
        "colab": {
          "base_uri": "https://localhost:8080/",
          "height": 496
        },
        "id": "IZB_NOHpobJ0",
        "outputId": "0bf0b824-0566-4f4e-ae18-c1829216295e"
      },
      "execution_count": null,
      "outputs": [
        {
          "output_type": "stream",
          "name": "stdout",
          "text": [
            "31250/31250 [==============================] - 276s 9ms/step\n"
          ]
        },
        {
          "output_type": "display_data",
          "data": {
            "text/plain": [
              "<Figure size 640x480 with 1 Axes>"
            ],
            "image/png": "[encoded data removed]"
          },
          "metadata": {}
        },
        {
          "output_type": "stream",
          "name": "stdout",
          "text": [
            "Calibrated values: [0.0, 0.21368366, 0.0, 0.21371496, 0.0, 0.21372789]\n",
            "Ground truth:      [0.20042534, 0.23559685, 0.16312157, 0.20771958, 0.13154241, 0.18236567]\n"
          ]
        }
      ]
    }
  ]
}